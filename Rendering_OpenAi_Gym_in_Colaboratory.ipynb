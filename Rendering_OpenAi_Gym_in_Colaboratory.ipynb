{
  "nbformat": 4,
  "nbformat_minor": 0,
  "metadata": {
    "colab": {
      "name": "Rendering_OpenAi_Gym_in_Colaboratory.ipynb",
      "provenance": [],
      "include_colab_link": true
    },
    "kernelspec": {
      "name": "python3",
      "display_name": "Python 3"
    },
    "accelerator": "GPU"
  },
  "cells": [
    {
      "cell_type": "markdown",
      "metadata": {
        "id": "view-in-github",
        "colab_type": "text"
      },
      "source": [
        "<a href=\"https://colab.research.google.com/github/ousdiallo/Reinforcement-Learning/blob/main/Rendering_OpenAi_Gym_in_Colaboratory.ipynb\" target=\"_parent\"><img src=\"https://colab.research.google.com/assets/colab-badge.svg\" alt=\"Open In Colab\"/></a>"
      ]
    },
    {
      "metadata": {
        "id": "odNaDE1zyrL2"
      },
      "cell_type": "markdown",
      "source": [
        "# install dependancies, takes around 45 seconds\n",
        "\n",
        "Rendering Dependancies\n",
        "\n"
      ]
    },
    {
      "metadata": {
        "id": "8-AxnvAVyzQQ"
      },
      "cell_type": "code",
      "source": [
        "#remove \" > /dev/null 2>&1\" to see what is going on under the hood\n",
        "!pip install gym pyvirtualdisplay > /dev/null 2>&1\n",
        "!apt-get install -y xvfb python-opengl ffmpeg > /dev/null 2>&1"
      ],
      "execution_count": 2,
      "outputs": []
    },
    {
      "cell_type": "code",
      "source": [
        "!apt update && apt install xvfb && pip3 install pyvirtualdisplay && pip install pyvirtualdisplay"
      ],
      "metadata": {
        "id": "z1rvtj1p65Zd",
        "colab": {
          "base_uri": "https://localhost:8080/"
        },
        "outputId": "ed6f605c-0955-4d7b-da7b-33449db3c627"
      },
      "execution_count": 4,
      "outputs": [
        {
          "output_type": "stream",
          "name": "stdout",
          "text": [
            "\u001b[33m\r0% [Working]\u001b[0m\r            \rHit:1 http://ppa.launchpad.net/c2d4u.team/c2d4u4.0+/ubuntu bionic InRelease\n",
            "\u001b[33m\r0% [Connecting to archive.ubuntu.com (91.189.88.142)] [Connecting to security.u\u001b[0m\r                                                                               \rHit:2 http://archive.ubuntu.com/ubuntu bionic InRelease\n",
            "\u001b[33m\r0% [Connecting to security.ubuntu.com (91.189.91.38)] [Connected to cloud.r-pro\u001b[0m\u001b[33m\r0% [1 InRelease gpgv 15.9 kB] [Waiting for headers] [Connecting to security.ubu\u001b[0m\r                                                                               \rHit:3 http://ppa.launchpad.net/cran/libgit2/ubuntu bionic InRelease\n",
            "\u001b[33m\r0% [1 InRelease gpgv 15.9 kB] [Waiting for headers] [Connecting to security.ubu\u001b[0m\r                                                                               \rHit:4 http://archive.ubuntu.com/ubuntu bionic-updates InRelease\n",
            "\u001b[33m\r0% [1 InRelease gpgv 15.9 kB] [Waiting for headers] [Connecting to security.ubu\u001b[0m\r                                                                               \rHit:5 http://archive.ubuntu.com/ubuntu bionic-backports InRelease\n",
            "\u001b[33m\r0% [1 InRelease gpgv 15.9 kB] [Connecting to security.ubuntu.com (91.189.91.38)\u001b[0m\r                                                                               \rHit:6 https://cloud.r-project.org/bin/linux/ubuntu bionic-cran40/ InRelease\n",
            "\u001b[33m\r0% [1 InRelease gpgv 15.9 kB] [Connecting to security.ubuntu.com (91.189.91.38)\u001b[0m\r                                                                               \rHit:7 http://ppa.launchpad.net/deadsnakes/ppa/ubuntu bionic InRelease\n",
            "\u001b[33m\r0% [1 InRelease gpgv 15.9 kB] [Connecting to security.ubuntu.com (91.189.91.38)\u001b[0m\r                                                                               \rHit:8 http://ppa.launchpad.net/graphics-drivers/ppa/ubuntu bionic InRelease\n",
            "Hit:9 http://security.ubuntu.com/ubuntu bionic-security InRelease\n",
            "Ign:10 https://developer.download.nvidia.com/compute/cuda/repos/ubuntu1804/x86_64  InRelease\n",
            "Ign:11 https://developer.download.nvidia.com/compute/machine-learning/repos/ubuntu1804/x86_64  InRelease\n",
            "Hit:12 https://developer.download.nvidia.com/compute/cuda/repos/ubuntu1804/x86_64  Release\n",
            "Hit:13 https://developer.download.nvidia.com/compute/machine-learning/repos/ubuntu1804/x86_64  Release\n",
            "Reading package lists... Done\n",
            "Building dependency tree       \n",
            "Reading state information... Done\n",
            "82 packages can be upgraded. Run 'apt list --upgradable' to see them.\n",
            "Reading package lists... Done\n",
            "Building dependency tree       \n",
            "Reading state information... Done\n",
            "The following additional packages will be installed:\n",
            "  xserver-common\n",
            "Recommended packages:\n",
            "  xfonts-base\n",
            "The following NEW packages will be installed:\n",
            "  xvfb\n",
            "The following packages will be upgraded:\n",
            "  xserver-common\n",
            "1 upgraded, 1 newly installed, 0 to remove and 81 not upgraded.\n",
            "Need to get 811 kB of archives.\n",
            "After this operation, 2,272 kB of additional disk space will be used.\n",
            "Get:1 http://archive.ubuntu.com/ubuntu bionic-updates/main amd64 xserver-common all 2:1.19.6-1ubuntu4.10 [26.9 kB]\n",
            "Get:2 http://archive.ubuntu.com/ubuntu bionic-updates/universe amd64 xvfb amd64 2:1.19.6-1ubuntu4.10 [784 kB]\n",
            "Fetched 811 kB in 0s (9,111 kB/s)\n",
            "(Reading database ... 155222 files and directories currently installed.)\n",
            "Preparing to unpack .../xserver-common_2%3a1.19.6-1ubuntu4.10_all.deb ...\n",
            "Unpacking xserver-common (2:1.19.6-1ubuntu4.10) over (2:1.19.6-1ubuntu4.9) ...\n",
            "Selecting previously unselected package xvfb.\n",
            "Preparing to unpack .../xvfb_2%3a1.19.6-1ubuntu4.10_amd64.deb ...\n",
            "Unpacking xvfb (2:1.19.6-1ubuntu4.10) ...\n",
            "Setting up xserver-common (2:1.19.6-1ubuntu4.10) ...\n",
            "Setting up xvfb (2:1.19.6-1ubuntu4.10) ...\n",
            "Processing triggers for man-db (2.8.3-2ubuntu0.1) ...\n",
            "Requirement already satisfied: pyvirtualdisplay in /usr/local/lib/python3.7/dist-packages (2.2)\n",
            "Requirement already satisfied: EasyProcess in /usr/local/lib/python3.7/dist-packages (from pyvirtualdisplay) (0.3)\n",
            "Requirement already satisfied: pyvirtualdisplay in /usr/local/lib/python3.7/dist-packages (2.2)\n",
            "Requirement already satisfied: EasyProcess in /usr/local/lib/python3.7/dist-packages (from pyvirtualdisplay) (0.3)\n"
          ]
        }
      ]
    },
    {
      "metadata": {
        "id": "8A-1LTSH88EE"
      },
      "cell_type": "markdown",
      "source": [
        "Pacman Dependancies"
      ]
    },
    {
      "metadata": {
        "id": "TCelFzWY9MBI",
        "colab": {
          "base_uri": "https://localhost:8080/"
        },
        "outputId": "1d60e2d1-bbc6-4018-e014-bacaa1d690e6"
      },
      "cell_type": "code",
      "source": [
        "!apt-get update > /dev/null 2>&1\n",
        "!apt-get install cmake > /dev/null 2>&1\n",
        "!pip install --upgrade setuptools 2>&1\n",
        "!pip install ez_setup > /dev/null 2>&1\n",
        "!pip install gym[atari] > /dev/null 2>&1"
      ],
      "execution_count": 1,
      "outputs": [
        {
          "output_type": "stream",
          "name": "stdout",
          "text": [
            "Requirement already satisfied: setuptools in /usr/local/lib/python3.7/dist-packages (60.0.0)\n"
          ]
        }
      ]
    },
    {
      "metadata": {
        "id": "APXSx7hg19TH"
      },
      "cell_type": "markdown",
      "source": [
        "# Imports and Helper functions\n"
      ]
    },
    {
      "metadata": {
        "id": "pdb2JwZy4jGj"
      },
      "cell_type": "code",
      "source": [
        "import gym\n",
        "from gym import logger as gymlogger\n",
        "from gym.wrappers import Monitor\n",
        "gymlogger.set_level(40) #error only\n",
        "import tensorflow as tf\n",
        "import numpy as np\n",
        "import random\n",
        "import matplotlib\n",
        "import matplotlib.pyplot as plt\n",
        "%matplotlib inline\n",
        "import math\n",
        "import glob\n",
        "import io\n",
        "import base64\n",
        "from IPython.display import HTML\n",
        "\n",
        "from IPython import display as ipythondisplay"
      ],
      "execution_count": 2,
      "outputs": []
    },
    {
      "metadata": {
        "id": "nQEtc28G4niA",
        "colab": {
          "base_uri": "https://localhost:8080/"
        },
        "outputId": "df92621f-4721-45b9-e813-db84dfd93e22"
      },
      "cell_type": "code",
      "source": [
        "from pyvirtualdisplay import Display\n",
        "display = Display(visible=0, size=(1400, 900))\n",
        "display.start()"
      ],
      "execution_count": 3,
      "outputs": [
        {
          "output_type": "execute_result",
          "data": {
            "text/plain": [
              "<pyvirtualdisplay.display.Display at 0x7f03a49f2c90>"
            ]
          },
          "metadata": {},
          "execution_count": 3
        }
      ]
    },
    {
      "metadata": {
        "id": "G9UWeToN4r7D"
      },
      "cell_type": "code",
      "source": [
        "\"\"\"\n",
        "Utility functions to enable video recording of gym environment and displaying it\n",
        "To enable video, just do \"env = wrap_env(env)\"\"\n",
        "\"\"\"\n",
        "\n",
        "def show_video():\n",
        "  mp4list = glob.glob('video/*.mp4')\n",
        "  if len(mp4list) > 0:\n",
        "    mp4 = mp4list[0]\n",
        "    video = io.open(mp4, 'r+b').read()\n",
        "    encoded = base64.b64encode(video)\n",
        "    ipythondisplay.display(HTML(data='''<video alt=\"test\" autoplay \n",
        "                loop controls style=\"height: 400px;\">\n",
        "                <source src=\"data:video/mp4;base64,{0}\" type=\"video/mp4\" />\n",
        "             </video>'''.format(encoded.decode('ascii'))))\n",
        "  else: \n",
        "    print(\"Could not find video\")\n",
        "    \n",
        "\n",
        "def wrap_env(env):\n",
        "  env = Monitor(env, './video', force=True)\n",
        "  return env"
      ],
      "execution_count": 4,
      "outputs": []
    },
    {
      "cell_type": "markdown",
      "source": [
        "# Env Enquires"
      ],
      "metadata": {
        "id": "Zex2xwOt-tuh"
      }
    },
    {
      "cell_type": "code",
      "execution_count": 5,
      "metadata": {
        "id": "cciTuR2MIeX-"
      },
      "outputs": [],
      "source": [
        "import gym\n",
        "\n",
        "def query_environment(name):\n",
        "  env = gym.make(name)\n",
        "  spec = gym.spec(name)\n",
        "  print(f\"Action Space: {env.action_space}\")\n",
        "  print(f\"Observation Space: {env.observation_space}\")\n",
        "  print(f\"Max Episode Steps: {spec.max_episode_steps}\")\n",
        "  print(f\"Nondeterministic: {spec.nondeterministic}\")\n",
        "  print(f\"Reward Range: {env.reward_range}\")\n",
        "  print(f\"Reward Threshold: {spec.reward_threshold}\")"
      ]
    },
    {
      "cell_type": "code",
      "source": [
        "query_environment(\"CartPole-v1\")"
      ],
      "metadata": {
        "id": "xiaj0hob-7po",
        "colab": {
          "base_uri": "https://localhost:8080/"
        },
        "outputId": "f5b3e861-9753-476f-ac45-27cb1f24d7c2"
      },
      "execution_count": 6,
      "outputs": [
        {
          "output_type": "stream",
          "name": "stdout",
          "text": [
            "Action Space: Discrete(2)\n",
            "Observation Space: Box(-3.4028234663852886e+38, 3.4028234663852886e+38, (4,), float32)\n",
            "Max Episode Steps: 500\n",
            "Nondeterministic: False\n",
            "Reward Range: (-inf, inf)\n",
            "Reward Threshold: 475.0\n"
          ]
        }
      ]
    },
    {
      "metadata": {
        "id": "W3BGbWOu179M"
      },
      "cell_type": "markdown",
      "source": [
        "# CartPole!"
      ]
    },
    {
      "cell_type": "code",
      "source": [
        "env = wrap_env(gym.make(\"CartPole-v1\"))"
      ],
      "metadata": {
        "id": "fayDSsCd9kgi"
      },
      "execution_count": null,
      "outputs": []
    },
    {
      "metadata": {
        "id": "7BmIlXhe9Q89"
      },
      "cell_type": "code",
      "source": [
        "#check out the action space!\n",
        "print(env.action_space)"
      ],
      "execution_count": null,
      "outputs": []
    },
    {
      "metadata": {
        "id": "8nj5sjsk15IT"
      },
      "cell_type": "code",
      "source": [
        "observation = env.reset()\n",
        "\n",
        "while True:\n",
        "  \n",
        "    env.render()\n",
        "    \n",
        "    #your agent goes here\n",
        "    action = env.action_space.sample() \n",
        "         \n",
        "    observation, reward, done, info = env.step(action) \n",
        "   \n",
        "        \n",
        "    if done: \n",
        "      break;\n",
        "            \n",
        "env.close()\n",
        "show_video()"
      ],
      "execution_count": null,
      "outputs": []
    },
    {
      "cell_type": "markdown",
      "source": [
        "# Test"
      ],
      "metadata": {
        "id": "IhKUhh3lv8jg"
      }
    },
    {
      "cell_type": "code",
      "source": [
        "import numpy as np\n",
        "\n",
        "# Valeurs hautes et basses des observations\n",
        "low_values=np.array([-5, -5, -0.45, -5])\n",
        "high_values=np.array([5, 5, 0.45, 5])\n",
        "\n",
        "division=[42, 42, 42, 42]\n",
        "pas=(high_values-low_values)/division\n",
        "\n",
        "def discretise(state):\n",
        "    discrete_state=(state-low_values)/pas\n",
        "    return tuple(discrete_state.astype(np.int))\n"
      ],
      "metadata": {
        "id": "6ynjmqY6v8I6"
      },
      "execution_count": 7,
      "outputs": []
    },
    {
      "cell_type": "code",
      "source": [
        ""
      ],
      "metadata": {
        "id": "NLWN088ZwIir"
      },
      "execution_count": null,
      "outputs": []
    },
    {
      "cell_type": "code",
      "source": [
        "import gym\n",
        "import numpy as np\n",
        "import cv2\n",
        "import CartPole_common\n",
        "\n",
        "env=gym.make(\"CartPole-v0\")\n",
        "env._max_episode_steps=500\n",
        "\n",
        "alpha=0.05\n",
        "gamma=0.98\n",
        "\n",
        "epoch=50000\n",
        "show_every=500\n",
        "\n",
        "epsilon=1.\n",
        "epsilon_min=0.05\n",
        "start_epsilon=1\n",
        "end_epsilon=epoch//2\n",
        "epsilon_decay_value=epsilon/(end_epsilon-start_epsilon)\n",
        "\n",
        "nbr_action=env.action_space.n\n",
        "q_table=np.random.uniform(low=-1, high=1, size=(CartPole_common.division+[nbr_action]))\n",
        "\n",
        "result_done=0\n",
        "scores=[]\n",
        "best_score=0\n",
        "for episode in range(epoch):\n",
        "    obs=env.reset()\n",
        "    discrete_state=CartPole_common.discretise(obs)\n",
        "    done=False\n",
        "\n",
        "    if episode%show_every == 0:\n",
        "        render=True\n",
        "        mean_score=np.mean(scores)\n",
        "        print(\"Epoch {:06d}/{:06d} reussite:{:04d}/{:04d} epsilon={:06.4f} Mean score={:08.4f} alpha={:06.4f}\".format(episode, epoch, result_done, show_every, epsilon, mean_score, alpha))\n",
        "        scores=[]\n",
        "        result_done=0\n",
        "        if mean_score>best_score:\n",
        "            print(\"Sauvegarde ...\")\n",
        "            np.save(\"CartPole_qtable\", q_table)\n",
        "            best_score=mean_score\n",
        "        alpha=alpha*0.99\n",
        "\n",
        "    else:\n",
        "        render=False\n",
        "\n",
        "    score=1\n",
        "    while not done:\n",
        "\n",
        "        if np.random.random()>epsilon:\n",
        "            action=np.argmax(q_table[discrete_state])\n",
        "        else:\n",
        "            action=np.random.randint(nbr_action)\n",
        "\n",
        "        new_state, reward, done, info=env.step(action)\n",
        "        new_discrete_state=CartPole_common.discretise(new_state)\n",
        "\n",
        "        if episode%show_every == 0:\n",
        "            env.render()\n",
        "\n",
        "        #reward=2-np.abs(new_state[0])\n",
        "        if done:\n",
        "            scores.append(score)\n",
        "            if score==env._max_episode_steps:\n",
        "                result_done+=1\n",
        "            else:\n",
        "                reward=-10\n",
        "\n",
        "        max_future_q=np.max(q_table[new_discrete_state])\n",
        "        current_q=q_table[discrete_state][action]\n",
        "        new_q=(1-alpha)*current_q+alpha*(reward+gamma*max_future_q)\n",
        "        q_table[discrete_state][action]=new_q\n",
        "\n",
        "        score+=1\n",
        "        discrete_state=new_discrete_state\n",
        "\n",
        "    if end_epsilon>=episode>=start_epsilon:\n",
        "        epsilon-=epsilon_decay_value\n",
        "        if epsilon<epsilon_min:\n",
        "            epsilon=epsilon_min\n",
        "\n",
        "env.close()\n"
      ],
      "metadata": {
        "colab": {
          "base_uri": "https://localhost:8080/"
        },
        "id": "RNu9ulL3ueUD",
        "outputId": "c2af7847-e231-48c6-cec2-220517848521"
      },
      "execution_count": 10,
      "outputs": [
        {
          "output_type": "stream",
          "name": "stderr",
          "text": [
            "/usr/local/lib/python3.7/dist-packages/numpy/core/fromnumeric.py:3373: RuntimeWarning: Mean of empty slice.\n",
            "  out=out, **kwargs)\n",
            "/usr/local/lib/python3.7/dist-packages/numpy/core/_methods.py:170: RuntimeWarning: invalid value encountered in double_scalars\n",
            "  ret = ret.dtype.type(ret / rcount)\n"
          ]
        },
        {
          "output_type": "stream",
          "name": "stdout",
          "text": [
            "Epoch 000000/050000 reussite:0000/0500 epsilon=1.0000 Mean score=00000nan alpha=0.0500\n",
            "Epoch 000500/050000 reussite:0000/0500 epsilon=0.9800 Mean score=022.7120 alpha=0.0495\n",
            "Sauvegarde ...\n",
            "Epoch 001000/050000 reussite:0000/0500 epsilon=0.9600 Mean score=022.9880 alpha=0.0490\n",
            "Sauvegarde ...\n",
            "Epoch 001500/050000 reussite:0000/0500 epsilon=0.9400 Mean score=021.9140 alpha=0.0485\n",
            "Epoch 002000/050000 reussite:0000/0500 epsilon=0.9200 Mean score=023.6000 alpha=0.0480\n",
            "Sauvegarde ...\n",
            "Epoch 002500/050000 reussite:0000/0500 epsilon=0.9000 Mean score=023.3800 alpha=0.0475\n",
            "Epoch 003000/050000 reussite:0000/0500 epsilon=0.8800 Mean score=023.4020 alpha=0.0471\n",
            "Epoch 003500/050000 reussite:0000/0500 epsilon=0.8600 Mean score=025.6940 alpha=0.0466\n",
            "Sauvegarde ...\n",
            "Epoch 004000/050000 reussite:0000/0500 epsilon=0.8400 Mean score=025.1160 alpha=0.0461\n",
            "Epoch 004500/050000 reussite:0000/0500 epsilon=0.8200 Mean score=026.8780 alpha=0.0457\n",
            "Sauvegarde ...\n",
            "Epoch 005000/050000 reussite:0000/0500 epsilon=0.8000 Mean score=027.8960 alpha=0.0452\n",
            "Sauvegarde ...\n",
            "Epoch 005500/050000 reussite:0000/0500 epsilon=0.7800 Mean score=029.9040 alpha=0.0448\n",
            "Sauvegarde ...\n",
            "Epoch 006000/050000 reussite:0000/0500 epsilon=0.7600 Mean score=032.3500 alpha=0.0443\n",
            "Sauvegarde ...\n",
            "Epoch 006500/050000 reussite:0000/0500 epsilon=0.7400 Mean score=032.5820 alpha=0.0439\n",
            "Sauvegarde ...\n",
            "Epoch 007000/050000 reussite:0000/0500 epsilon=0.7200 Mean score=035.1080 alpha=0.0434\n",
            "Sauvegarde ...\n",
            "Epoch 007500/050000 reussite:0000/0500 epsilon=0.7000 Mean score=037.5960 alpha=0.0430\n",
            "Sauvegarde ...\n",
            "Epoch 008000/050000 reussite:0000/0500 epsilon=0.6800 Mean score=039.6020 alpha=0.0426\n",
            "Sauvegarde ...\n",
            "Epoch 008500/050000 reussite:0000/0500 epsilon=0.6600 Mean score=043.0440 alpha=0.0421\n",
            "Sauvegarde ...\n",
            "Epoch 009000/050000 reussite:0000/0500 epsilon=0.6400 Mean score=044.1760 alpha=0.0417\n",
            "Sauvegarde ...\n",
            "Epoch 009500/050000 reussite:0000/0500 epsilon=0.6200 Mean score=046.4100 alpha=0.0413\n",
            "Sauvegarde ...\n",
            "Epoch 010000/050000 reussite:0000/0500 epsilon=0.6000 Mean score=051.4720 alpha=0.0409\n",
            "Sauvegarde ...\n",
            "Epoch 010500/050000 reussite:0000/0500 epsilon=0.5800 Mean score=053.6160 alpha=0.0405\n",
            "Sauvegarde ...\n",
            "Epoch 011000/050000 reussite:0000/0500 epsilon=0.5600 Mean score=058.6400 alpha=0.0401\n",
            "Sauvegarde ...\n",
            "Epoch 011500/050000 reussite:0000/0500 epsilon=0.5400 Mean score=062.7600 alpha=0.0397\n",
            "Sauvegarde ...\n",
            "Epoch 012000/050000 reussite:0000/0500 epsilon=0.5200 Mean score=066.8140 alpha=0.0393\n",
            "Sauvegarde ...\n",
            "Epoch 012500/050000 reussite:0000/0500 epsilon=0.5000 Mean score=072.0720 alpha=0.0389\n",
            "Sauvegarde ...\n",
            "Epoch 013000/050000 reussite:0000/0500 epsilon=0.4800 Mean score=079.4120 alpha=0.0385\n",
            "Sauvegarde ...\n",
            "Epoch 013500/050000 reussite:0000/0500 epsilon=0.4600 Mean score=081.9520 alpha=0.0381\n",
            "Sauvegarde ...\n",
            "Epoch 014000/050000 reussite:0000/0500 epsilon=0.4400 Mean score=086.3960 alpha=0.0377\n",
            "Sauvegarde ...\n",
            "Epoch 014500/050000 reussite:0000/0500 epsilon=0.4200 Mean score=097.4420 alpha=0.0374\n",
            "Sauvegarde ...\n",
            "Epoch 015000/050000 reussite:0000/0500 epsilon=0.4000 Mean score=102.6440 alpha=0.0370\n",
            "Sauvegarde ...\n",
            "Epoch 015500/050000 reussite:0000/0500 epsilon=0.3800 Mean score=107.8580 alpha=0.0366\n",
            "Sauvegarde ...\n",
            "Epoch 016000/050000 reussite:0000/0500 epsilon=0.3600 Mean score=110.0080 alpha=0.0362\n",
            "Sauvegarde ...\n",
            "Epoch 016500/050000 reussite:0002/0500 epsilon=0.3400 Mean score=124.5880 alpha=0.0359\n",
            "Sauvegarde ...\n",
            "Epoch 017000/050000 reussite:0001/0500 epsilon=0.3200 Mean score=138.8500 alpha=0.0355\n",
            "Sauvegarde ...\n",
            "Epoch 017500/050000 reussite:0002/0500 epsilon=0.3000 Mean score=139.6840 alpha=0.0352\n",
            "Sauvegarde ...\n",
            "Epoch 018000/050000 reussite:0005/0500 epsilon=0.2800 Mean score=164.2180 alpha=0.0348\n",
            "Sauvegarde ...\n",
            "Epoch 018500/050000 reussite:0013/0500 epsilon=0.2600 Mean score=179.9320 alpha=0.0345\n",
            "Sauvegarde ...\n",
            "Epoch 019000/050000 reussite:0008/0500 epsilon=0.2400 Mean score=163.6080 alpha=0.0341\n",
            "Epoch 019500/050000 reussite:0004/0500 epsilon=0.2200 Mean score=159.3880 alpha=0.0338\n",
            "Epoch 020000/050000 reussite:0005/0500 epsilon=0.2000 Mean score=170.8880 alpha=0.0334\n",
            "Epoch 020500/050000 reussite:0011/0500 epsilon=0.1800 Mean score=191.7140 alpha=0.0331\n",
            "Sauvegarde ...\n",
            "Epoch 021000/050000 reussite:0036/0500 epsilon=0.1600 Mean score=227.9080 alpha=0.0328\n",
            "Sauvegarde ...\n",
            "Epoch 021500/050000 reussite:0010/0500 epsilon=0.1400 Mean score=176.8140 alpha=0.0325\n",
            "Epoch 022000/050000 reussite:0020/0500 epsilon=0.1200 Mean score=192.0960 alpha=0.0321\n",
            "Epoch 022500/050000 reussite:0017/0500 epsilon=0.1000 Mean score=206.4100 alpha=0.0318\n",
            "Epoch 023000/050000 reussite:0025/0500 epsilon=0.0800 Mean score=225.3880 alpha=0.0315\n",
            "Epoch 023500/050000 reussite:0131/0500 epsilon=0.0600 Mean score=325.1860 alpha=0.0312\n",
            "Sauvegarde ...\n",
            "Epoch 024000/050000 reussite:0206/0500 epsilon=0.0500 Mean score=369.0880 alpha=0.0309\n",
            "Sauvegarde ...\n",
            "Epoch 024500/050000 reussite:0178/0500 epsilon=0.0500 Mean score=323.9120 alpha=0.0306\n",
            "Epoch 025000/050000 reussite:0233/0500 epsilon=0.0500 Mean score=368.3440 alpha=0.0303\n",
            "Epoch 025500/050000 reussite:0398/0500 epsilon=0.0500 Mean score=452.9940 alpha=0.0299\n",
            "Sauvegarde ...\n",
            "Epoch 026000/050000 reussite:0112/0500 epsilon=0.0500 Mean score=288.0880 alpha=0.0296\n",
            "Epoch 026500/050000 reussite:0103/0500 epsilon=0.0500 Mean score=271.9900 alpha=0.0294\n",
            "Epoch 027000/050000 reussite:0099/0500 epsilon=0.0500 Mean score=280.7840 alpha=0.0291\n",
            "Epoch 027500/050000 reussite:0104/0500 epsilon=0.0500 Mean score=286.7780 alpha=0.0288\n",
            "Epoch 028000/050000 reussite:0039/0500 epsilon=0.0500 Mean score=201.4500 alpha=0.0285\n",
            "Epoch 028500/050000 reussite:0005/0500 epsilon=0.0500 Mean score=172.8260 alpha=0.0282\n",
            "Epoch 029000/050000 reussite:0006/0500 epsilon=0.0500 Mean score=167.8480 alpha=0.0279\n",
            "Epoch 029500/050000 reussite:0010/0500 epsilon=0.0500 Mean score=171.6380 alpha=0.0276\n",
            "Epoch 030000/050000 reussite:0113/0500 epsilon=0.0500 Mean score=275.3340 alpha=0.0274\n",
            "Epoch 030500/050000 reussite:0328/0500 epsilon=0.0500 Mean score=422.1580 alpha=0.0271\n",
            "Epoch 031000/050000 reussite:0270/0500 epsilon=0.0500 Mean score=385.7060 alpha=0.0268\n",
            "Epoch 031500/050000 reussite:0222/0500 epsilon=0.0500 Mean score=363.4520 alpha=0.0265\n",
            "Epoch 032000/050000 reussite:0198/0500 epsilon=0.0500 Mean score=372.7000 alpha=0.0263\n",
            "Epoch 032500/050000 reussite:0290/0500 epsilon=0.0500 Mean score=408.4400 alpha=0.0260\n",
            "Epoch 033000/050000 reussite:0362/0500 epsilon=0.0500 Mean score=440.2220 alpha=0.0258\n",
            "Epoch 033500/050000 reussite:0422/0500 epsilon=0.0500 Mean score=463.2920 alpha=0.0255\n",
            "Sauvegarde ...\n",
            "Epoch 034000/050000 reussite:0222/0500 epsilon=0.0500 Mean score=353.8820 alpha=0.0252\n",
            "Epoch 034500/050000 reussite:0126/0500 epsilon=0.0500 Mean score=293.9300 alpha=0.0250\n",
            "Epoch 035000/050000 reussite:0120/0500 epsilon=0.0500 Mean score=284.6200 alpha=0.0247\n",
            "Epoch 035500/050000 reussite:0385/0500 epsilon=0.0500 Mean score=442.2500 alpha=0.0245\n",
            "Epoch 036000/050000 reussite:0322/0500 epsilon=0.0500 Mean score=413.5340 alpha=0.0242\n",
            "Epoch 036500/050000 reussite:0109/0500 epsilon=0.0500 Mean score=279.8320 alpha=0.0240\n",
            "Epoch 037000/050000 reussite:0094/0500 epsilon=0.0500 Mean score=285.9160 alpha=0.0238\n",
            "Epoch 037500/050000 reussite:0070/0500 epsilon=0.0500 Mean score=256.2220 alpha=0.0235\n",
            "Epoch 038000/050000 reussite:0073/0500 epsilon=0.0500 Mean score=255.1780 alpha=0.0233\n",
            "Epoch 038500/050000 reussite:0179/0500 epsilon=0.0500 Mean score=340.3500 alpha=0.0231\n",
            "Epoch 039000/050000 reussite:0242/0500 epsilon=0.0500 Mean score=378.7680 alpha=0.0228\n",
            "Epoch 039500/050000 reussite:0118/0500 epsilon=0.0500 Mean score=287.3580 alpha=0.0226\n",
            "Epoch 040000/050000 reussite:0265/0500 epsilon=0.0500 Mean score=413.7180 alpha=0.0224\n",
            "Epoch 040500/050000 reussite:0031/0500 epsilon=0.0500 Mean score=233.3420 alpha=0.0222\n",
            "Epoch 041000/050000 reussite:0022/0500 epsilon=0.0500 Mean score=217.5260 alpha=0.0219\n",
            "Epoch 041500/050000 reussite:0031/0500 epsilon=0.0500 Mean score=234.8580 alpha=0.0217\n",
            "Epoch 042000/050000 reussite:0013/0500 epsilon=0.0500 Mean score=202.4680 alpha=0.0215\n",
            "Epoch 042500/050000 reussite:0054/0500 epsilon=0.0500 Mean score=256.7520 alpha=0.0213\n",
            "Epoch 043000/050000 reussite:0151/0500 epsilon=0.0500 Mean score=317.0160 alpha=0.0211\n",
            "Epoch 043500/050000 reussite:0146/0500 epsilon=0.0500 Mean score=308.0660 alpha=0.0209\n",
            "Epoch 044000/050000 reussite:0183/0500 epsilon=0.0500 Mean score=358.5800 alpha=0.0206\n",
            "Epoch 044500/050000 reussite:0052/0500 epsilon=0.0500 Mean score=263.1280 alpha=0.0204\n",
            "Epoch 045000/050000 reussite:0171/0500 epsilon=0.0500 Mean score=353.7300 alpha=0.0202\n",
            "Epoch 045500/050000 reussite:0041/0500 epsilon=0.0500 Mean score=259.0540 alpha=0.0200\n",
            "Epoch 046000/050000 reussite:0137/0500 epsilon=0.0500 Mean score=306.4800 alpha=0.0198\n",
            "Epoch 046500/050000 reussite:0248/0500 epsilon=0.0500 Mean score=384.4160 alpha=0.0196\n",
            "Epoch 047000/050000 reussite:0112/0500 epsilon=0.0500 Mean score=312.2860 alpha=0.0194\n",
            "Epoch 047500/050000 reussite:0116/0500 epsilon=0.0500 Mean score=292.5140 alpha=0.0192\n",
            "Epoch 048000/050000 reussite:0165/0500 epsilon=0.0500 Mean score=328.1960 alpha=0.0191\n",
            "Epoch 048500/050000 reussite:0240/0500 epsilon=0.0500 Mean score=369.6800 alpha=0.0189\n",
            "Epoch 049000/050000 reussite:0089/0500 epsilon=0.0500 Mean score=282.7100 alpha=0.0187\n",
            "Epoch 049500/050000 reussite:0248/0500 epsilon=0.0500 Mean score=378.0140 alpha=0.0185\n"
          ]
        }
      ]
    },
    {
      "cell_type": "code",
      "source": [
        "import gym\n",
        "import numpy as np\n",
        "import CartPole_common\n",
        "\n",
        "env=gym.make(\"CartPole-v0\")\n",
        "env._max_episode_steps=5000\n",
        "\n",
        "q_table=np.load(\"CartPole_qtable.npy\")\n",
        "\n",
        "for epoch in range(1000):\n",
        "    state = env.reset()\n",
        "    score = 0\n",
        "    while True:\n",
        "        env.render()\n",
        "        discrete_state=CartPole_common.discretise(state)\n",
        "        action=np.argmax(q_table[discrete_state])\n",
        "        #if not np.random.randint(5):\n",
        "        #    action=np.random.randint(2)\n",
        "        state, reward, done, info=env.step(action)\n",
        "        score+=reward\n",
        "        if done:\n",
        "            print('Essai {:05d} Score: {:04d}'.format(epoch, int(score)))\n",
        "            break\n",
        "\n",
        "env.close()\n"
      ],
      "metadata": {
        "colab": {
          "base_uri": "https://localhost:8080/"
        },
        "id": "NO67DCcOw4Im",
        "outputId": "3e7b2dc9-68e8-41c3-9d3a-4d0a17b7369f"
      },
      "execution_count": null,
      "outputs": [
        {
          "output_type": "stream",
          "name": "stdout",
          "text": [
            "Essai 00000 Score: 0875\n",
            "Essai 00001 Score: 5000\n",
            "Essai 00002 Score: 5000\n",
            "Essai 00003 Score: 5000\n",
            "Essai 00004 Score: 5000\n",
            "Essai 00005 Score: 1160\n",
            "Essai 00006 Score: 5000\n",
            "Essai 00007 Score: 0458\n",
            "Essai 00008 Score: 5000\n",
            "Essai 00009 Score: 5000\n",
            "Essai 00010 Score: 5000\n",
            "Essai 00011 Score: 1067\n"
          ]
        }
      ]
    }
  ]
}